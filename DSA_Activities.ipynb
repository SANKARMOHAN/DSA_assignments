{
  "nbformat": 4,
  "nbformat_minor": 0,
  "metadata": {
    "kernelspec": {
      "display_name": "Python 3",
      "language": "python",
      "name": "python3"
    },
    "language_info": {
      "codemirror_mode": {
        "name": "ipython",
        "version": 3
      },
      "file_extension": ".py",
      "mimetype": "text/x-python",
      "name": "python",
      "nbconvert_exporter": "python",
      "pygments_lexer": "ipython3",
      "version": "3.7.6"
    },
    "colab": {
      "name": "DSA Activities.ipynb",
      "provenance": [],
      "collapsed_sections": []
    }
  },
  "cells": [
    {
      "cell_type": "markdown",
      "metadata": {
        "id": "4z_Z-K1tlrS7"
      },
      "source": [
        "## 1. Complete the following code to find the area of an equilateral triangle. Output should be as displayed"
      ]
    },
    {
      "cell_type": "code",
      "metadata": {
        "id": "rP2qFD_SlrS_",
        "colab": {
          "base_uri": "https://localhost:8080/"
        },
        "outputId": "bc839c76-b63c-4489-98c3-225ae0c2a2b3"
      },
      "source": [
        "import math\n",
        "side = float(input(\"Enter the side of the equilateral triangle: \"))\n",
        "area = ((math.sqrt(3))/4)*pow(side,2)\n",
        "print('Area = ',round(area,3))"
      ],
      "execution_count": 5,
      "outputs": [
        {
          "output_type": "stream",
          "name": "stdout",
          "text": [
            "Enter the side of the equilateral triangle: 4\n",
            "Area =  6.928\n"
          ]
        }
      ]
    },
    {
      "cell_type": "markdown",
      "metadata": {
        "id": "TjVKjIfclrTB"
      },
      "source": [
        "## 2. Write a program to count the number of each characters in a string"
      ]
    },
    {
      "cell_type": "code",
      "metadata": {
        "id": "JY5seVUQlrTC",
        "colab": {
          "base_uri": "https://localhost:8080/"
        },
        "outputId": "d3fed739-5789-48ab-e51c-cd20325d2bcf"
      },
      "source": [
        "n = []\n",
        "string = input('Enter the word\\n')\n",
        "for i in string:\n",
        "    if i in n:\n",
        "        continue\n",
        "    else:\n",
        "        n.append(i)\n",
        "        print(i,'=',string.count(i))"
      ],
      "execution_count": 9,
      "outputs": [
        {
          "output_type": "stream",
          "name": "stdout",
          "text": [
            "Enter the word\n",
            "programming\n",
            "p = 1\n",
            "r = 2\n",
            "o = 1\n",
            "g = 2\n",
            "a = 1\n",
            "m = 2\n",
            "i = 1\n",
            "n = 1\n"
          ]
        }
      ]
    },
    {
      "cell_type": "markdown",
      "metadata": {
        "id": "l3LCULfklrTD"
      },
      "source": [
        "## Write a program to find the area and perimeter of a rectangle using functions"
      ]
    },
    {
      "cell_type": "code",
      "metadata": {
        "id": "8haQD8edlrTD",
        "colab": {
          "base_uri": "https://localhost:8080/"
        },
        "outputId": "dab3df84-84ea-41fc-cb5d-29524c3d5d88"
      },
      "source": [
        "def area(length,breadth):\n",
        "    return(length*breadth)\n",
        "def perimeter(length,breadth):\n",
        "    return(2*(length+breadth))\n",
        "\n",
        "length=int(input('Enter the length of rectangle = '))\n",
        "breadth=int(input('Enter the breadth of rectangle = '))\n",
        "\n",
        "print('Area = ',area(length,breadth))\n",
        "print('Perimeter = ',perimeter(length,breadth))"
      ],
      "execution_count": 12,
      "outputs": [
        {
          "output_type": "stream",
          "name": "stdout",
          "text": [
            "Enter the length of rectangle = 20\n",
            "Enter the breadth of rectangle = 5\n",
            "Area =  100\n",
            "Perimeter =  50\n"
          ]
        }
      ]
    },
    {
      "cell_type": "markdown",
      "metadata": {
        "id": "JHK4ZdsflrTE"
      },
      "source": [
        "## 4. Write a program to print the fibonacci series till a specified number"
      ]
    },
    {
      "cell_type": "code",
      "metadata": {
        "id": "LyBEj-4SlrTE",
        "colab": {
          "base_uri": "https://localhost:8080/"
        },
        "outputId": "abcbd70d-2bd0-414c-e811-0af9ebacb02a"
      },
      "source": [
        "n=int(input('Enter no. of terms = '))\n",
        "count=0\n",
        "a=0\n",
        "b=1\n",
        "print('The Fibonacci Series is')\n",
        "print(a)\n",
        "print(b)\n",
        "if [count<n]:\n",
        "  for i in range(2,n):\n",
        "    c=a+b\n",
        "    a=b\n",
        "    b=c\n",
        "    print(c)\n",
        "    count+=1"
      ],
      "execution_count": 26,
      "outputs": [
        {
          "output_type": "stream",
          "name": "stdout",
          "text": [
            "Enter no. of terms = 10\n",
            "The Fibonacci Series is\n",
            "0\n",
            "1\n",
            "1\n",
            "2\n",
            "3\n",
            "5\n",
            "8\n",
            "13\n",
            "21\n",
            "34\n"
          ]
        }
      ]
    },
    {
      "cell_type": "markdown",
      "metadata": {
        "id": "u4uBUcQKlrTE"
      },
      "source": [
        "## 5. Complete the following code to find the minimum of 3 number using cinditional statements. Output should be as displayed"
      ]
    },
    {
      "cell_type": "code",
      "metadata": {
        "id": "XdZwrZjIlrTF",
        "colab": {
          "base_uri": "https://localhost:8080/"
        },
        "outputId": "266529af-86d7-48a6-f770-8acaf4a4f588"
      },
      "source": [
        "a,b,c = input(\"Enter three numbers followed by  : \").split()\n",
        "\n",
        "print(\"First number :\",a)\n",
        "print(\"Second number :\",b)\n",
        "print(\"Third number :\",c)\n",
        "\n",
        "if(a==b==c):\n",
        "    print(\"Entered numbers are equal!!!\")\n",
        "elif(a<b and a<c):\n",
        "    print(a,\" is smallest\")\n",
        "elif(b<a and b<c):\n",
        "    print(b,\" is smallest\")\n",
        "else:\n",
        "    print(c,\" is smallest\")"
      ],
      "execution_count": 16,
      "outputs": [
        {
          "output_type": "stream",
          "name": "stdout",
          "text": [
            "Enter three numbers followed by  : 3 -11 2\n",
            "First number : 3\n",
            "Second number : -11\n",
            "Third number : 2\n",
            "-11  is smallest\n"
          ]
        }
      ]
    },
    {
      "cell_type": "markdown",
      "metadata": {
        "id": "aR_CnToWlrTG"
      },
      "source": [
        "## 6. Write a program to print star pyramind. The number of rows should be taken as input from the user"
      ]
    },
    {
      "cell_type": "code",
      "metadata": {
        "id": "M37A-buplrTG",
        "colab": {
          "base_uri": "https://localhost:8080/"
        },
        "outputId": "8d9cb3ae-10e5-4796-9968-64ec3945a95d"
      },
      "source": [
        "n = int(input('Enter number of rows'))\n",
        "for i in range(0,n):\n",
        "  for j in range(0,i+1):\n",
        "    print('*',end='')\n",
        "  print('\\r')"
      ],
      "execution_count": 18,
      "outputs": [
        {
          "output_type": "stream",
          "name": "stdout",
          "text": [
            "Enter number of rows10\n",
            "*\n",
            "**\n",
            "***\n",
            "****\n",
            "*****\n",
            "******\n",
            "*******\n",
            "********\n",
            "*********\n",
            "**********\n"
          ]
        }
      ]
    },
    {
      "cell_type": "markdown",
      "metadata": {
        "id": "tlY6aFWBlrTH"
      },
      "source": [
        "## 7. Complete the following code to convert hour into seconds. Output should be as displayed"
      ]
    },
    {
      "cell_type": "code",
      "metadata": {
        "id": "YOZQFk7FlrTH",
        "colab": {
          "base_uri": "https://localhost:8080/"
        },
        "outputId": "622cc514-b655-462a-aaaf-f5b86d65aa1a"
      },
      "source": [
        "def to_seconds(t):\n",
        "    t=t*3600\n",
        "    return t\n",
        "time_in_hours = int(input('Enter the time in Hour = '))\n",
        "print(time_in_hours ,\" Hour is equal to\" ,to_seconds(time_in_hours) ,\" Seconds\")"
      ],
      "execution_count": 22,
      "outputs": [
        {
          "output_type": "stream",
          "name": "stdout",
          "text": [
            "Enter the time in Hour = 7\n",
            "7  Hour is equal to 25200  Seconds\n"
          ]
        }
      ]
    },
    {
      "cell_type": "markdown",
      "metadata": {
        "id": "CnYorNiLlrTI"
      },
      "source": [
        "## 8. Write a program to print multiplication table as below"
      ]
    },
    {
      "cell_type": "code",
      "metadata": {
        "id": "dPQqDPuDlrTI",
        "colab": {
          "base_uri": "https://localhost:8080/"
        },
        "outputId": "3c5a3a6a-50fd-4524-e5e6-081abb99590a"
      },
      "source": [
        "n=int(input('Enter a number to find the multiplication table:  '))\n",
        "for i in range(1,11):\n",
        " print(i,'X',n,'=',i*n)"
      ],
      "execution_count": 27,
      "outputs": [
        {
          "output_type": "stream",
          "name": "stdout",
          "text": [
            "Enter a number to find the multiplication table:  7\n",
            "1 X 7 = 7\n",
            "2 X 7 = 14\n",
            "3 X 7 = 21\n",
            "4 X 7 = 28\n",
            "5 X 7 = 35\n",
            "6 X 7 = 42\n",
            "7 X 7 = 49\n",
            "8 X 7 = 56\n",
            "9 X 7 = 63\n",
            "10 X 7 = 70\n"
          ]
        }
      ]
    },
    {
      "cell_type": "markdown",
      "metadata": {
        "id": "Fiaez8iblrTI"
      },
      "source": [
        "## 9. Write a program to take your 5 favorite food as list and print each as 'I like Biriyani'"
      ]
    },
    {
      "cell_type": "code",
      "metadata": {
        "id": "39W1zFX7lrTJ",
        "colab": {
          "base_uri": "https://localhost:8080/"
        },
        "outputId": "6328ec64-b461-41a1-95bc-1fc64662a813"
      },
      "source": [
        "food = input('Enter your favorite food list : ').split()\n",
        "for i in food:\n",
        "  print('I like ',i)"
      ],
      "execution_count": 28,
      "outputs": [
        {
          "output_type": "stream",
          "name": "stdout",
          "text": [
            "Enter your favorite food list : orange apple biriyani mango watermelon\n",
            "I like  orange\n",
            "I like  apple\n",
            "I like  biriyani\n",
            "I like  mango\n",
            "I like  watermelon\n"
          ]
        }
      ]
    },
    {
      "cell_type": "markdown",
      "metadata": {
        "id": "3vlcDNNEP7d_"
      },
      "source": [
        "## 10. Find error(s) in the following code(if any) and rewrite code.\n",
        "\n"
      ]
    },
    {
      "cell_type": "code",
      "metadata": {
        "id": "coREkcY3P9sG",
        "colab": {
          "base_uri": "https://localhost:8080/"
        },
        "outputId": "15226963-1b1a-41b3-d818-0608b54f5b79"
      },
      "source": [
        "x= int(input(\"Enter value of x:\"))\n",
        "for y in range(0,10):\n",
        "     if x==y:\n",
        "          print(\"They are equal\")\n",
        "     else:\n",
        "         print( \"They are unequal\")"
      ],
      "execution_count": 37,
      "outputs": [
        {
          "output_type": "stream",
          "name": "stdout",
          "text": [
            "Enter value of x:7\n",
            "They are unequal\n",
            "They are unequal\n",
            "They are unequal\n",
            "They are unequal\n",
            "They are unequal\n",
            "They are unequal\n",
            "They are unequal\n",
            "They are equal\n",
            "They are unequal\n",
            "They are unequal\n"
          ]
        }
      ]
    }
  ]
}