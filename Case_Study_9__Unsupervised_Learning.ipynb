{
  "cells": [
    {
      "cell_type": "markdown",
      "metadata": {
        "id": "view-in-github",
        "colab_type": "text"
      },
      "source": [
        "<a href=\"https://colab.research.google.com/github/SANKARMOHAN/DSA_assignments/blob/main/Case_Study_9__Unsupervised_Learning.ipynb\" target=\"_parent\"><img src=\"https://colab.research.google.com/assets/colab-badge.svg\" alt=\"Open In Colab\"/></a>"
      ]
    },
    {
      "cell_type": "code",
      "execution_count": 1,
      "id": "cd9201fb",
      "metadata": {
        "id": "cd9201fb"
      },
      "outputs": [],
      "source": [
        "#importing libraries\n",
        "import pandas as pd\n",
        "import numpy as np\n",
        "import matplotlib.pyplot as plt"
      ]
    },
    {
      "cell_type": "code",
      "execution_count": 3,
      "id": "b112d58e",
      "metadata": {
        "id": "b112d58e"
      },
      "outputs": [],
      "source": [
        "data = pd.read_csv('Wine.csv')"
      ]
    },
    {
      "cell_type": "code",
      "execution_count": 4,
      "id": "f8072498",
      "metadata": {
        "colab": {
          "base_uri": "https://localhost:8080/",
          "height": 250
        },
        "id": "f8072498",
        "outputId": "eb9e34b2-950f-4d83-e477-a390e380fea8"
      },
      "outputs": [
        {
          "output_type": "execute_result",
          "data": {
            "text/html": [
              "\n",
              "  <div id=\"df-d125980b-06f2-42fc-a842-e55489347f8f\">\n",
              "    <div class=\"colab-df-container\">\n",
              "      <div>\n",
              "<style scoped>\n",
              "    .dataframe tbody tr th:only-of-type {\n",
              "        vertical-align: middle;\n",
              "    }\n",
              "\n",
              "    .dataframe tbody tr th {\n",
              "        vertical-align: top;\n",
              "    }\n",
              "\n",
              "    .dataframe thead th {\n",
              "        text-align: right;\n",
              "    }\n",
              "</style>\n",
              "<table border=\"1\" class=\"dataframe\">\n",
              "  <thead>\n",
              "    <tr style=\"text-align: right;\">\n",
              "      <th></th>\n",
              "      <th>Alcohol</th>\n",
              "      <th>Malic_Acid</th>\n",
              "      <th>Ash</th>\n",
              "      <th>Ash_Alcanity</th>\n",
              "      <th>Magnesium</th>\n",
              "      <th>Total_Phenols</th>\n",
              "      <th>Flavanoids</th>\n",
              "      <th>Nonflavanoid_Phenols</th>\n",
              "      <th>Proanthocyanins</th>\n",
              "      <th>Color_Intensity</th>\n",
              "      <th>Hue</th>\n",
              "      <th>OD280</th>\n",
              "      <th>Proline</th>\n",
              "    </tr>\n",
              "  </thead>\n",
              "  <tbody>\n",
              "    <tr>\n",
              "      <th>0</th>\n",
              "      <td>14.23</td>\n",
              "      <td>1.71</td>\n",
              "      <td>2.43</td>\n",
              "      <td>15.6</td>\n",
              "      <td>127</td>\n",
              "      <td>2.80</td>\n",
              "      <td>3.06</td>\n",
              "      <td>0.28</td>\n",
              "      <td>2.29</td>\n",
              "      <td>5.64</td>\n",
              "      <td>1.04</td>\n",
              "      <td>3.92</td>\n",
              "      <td>1065</td>\n",
              "    </tr>\n",
              "    <tr>\n",
              "      <th>1</th>\n",
              "      <td>13.20</td>\n",
              "      <td>1.78</td>\n",
              "      <td>2.14</td>\n",
              "      <td>11.2</td>\n",
              "      <td>100</td>\n",
              "      <td>2.65</td>\n",
              "      <td>2.76</td>\n",
              "      <td>0.26</td>\n",
              "      <td>1.28</td>\n",
              "      <td>4.38</td>\n",
              "      <td>1.05</td>\n",
              "      <td>3.40</td>\n",
              "      <td>1050</td>\n",
              "    </tr>\n",
              "    <tr>\n",
              "      <th>2</th>\n",
              "      <td>13.16</td>\n",
              "      <td>2.36</td>\n",
              "      <td>2.67</td>\n",
              "      <td>18.6</td>\n",
              "      <td>101</td>\n",
              "      <td>2.80</td>\n",
              "      <td>3.24</td>\n",
              "      <td>0.30</td>\n",
              "      <td>2.81</td>\n",
              "      <td>5.68</td>\n",
              "      <td>1.03</td>\n",
              "      <td>3.17</td>\n",
              "      <td>1185</td>\n",
              "    </tr>\n",
              "    <tr>\n",
              "      <th>3</th>\n",
              "      <td>14.37</td>\n",
              "      <td>1.95</td>\n",
              "      <td>2.50</td>\n",
              "      <td>16.8</td>\n",
              "      <td>113</td>\n",
              "      <td>3.85</td>\n",
              "      <td>3.49</td>\n",
              "      <td>0.24</td>\n",
              "      <td>2.18</td>\n",
              "      <td>7.80</td>\n",
              "      <td>0.86</td>\n",
              "      <td>3.45</td>\n",
              "      <td>1480</td>\n",
              "    </tr>\n",
              "    <tr>\n",
              "      <th>4</th>\n",
              "      <td>13.24</td>\n",
              "      <td>2.59</td>\n",
              "      <td>2.87</td>\n",
              "      <td>21.0</td>\n",
              "      <td>118</td>\n",
              "      <td>2.80</td>\n",
              "      <td>2.69</td>\n",
              "      <td>0.39</td>\n",
              "      <td>1.82</td>\n",
              "      <td>4.32</td>\n",
              "      <td>1.04</td>\n",
              "      <td>2.93</td>\n",
              "      <td>735</td>\n",
              "    </tr>\n",
              "  </tbody>\n",
              "</table>\n",
              "</div>\n",
              "      <button class=\"colab-df-convert\" onclick=\"convertToInteractive('df-d125980b-06f2-42fc-a842-e55489347f8f')\"\n",
              "              title=\"Convert this dataframe to an interactive table.\"\n",
              "              style=\"display:none;\">\n",
              "        \n",
              "  <svg xmlns=\"http://www.w3.org/2000/svg\" height=\"24px\"viewBox=\"0 0 24 24\"\n",
              "       width=\"24px\">\n",
              "    <path d=\"M0 0h24v24H0V0z\" fill=\"none\"/>\n",
              "    <path d=\"M18.56 5.44l.94 2.06.94-2.06 2.06-.94-2.06-.94-.94-2.06-.94 2.06-2.06.94zm-11 1L8.5 8.5l.94-2.06 2.06-.94-2.06-.94L8.5 2.5l-.94 2.06-2.06.94zm10 10l.94 2.06.94-2.06 2.06-.94-2.06-.94-.94-2.06-.94 2.06-2.06.94z\"/><path d=\"M17.41 7.96l-1.37-1.37c-.4-.4-.92-.59-1.43-.59-.52 0-1.04.2-1.43.59L10.3 9.45l-7.72 7.72c-.78.78-.78 2.05 0 2.83L4 21.41c.39.39.9.59 1.41.59.51 0 1.02-.2 1.41-.59l7.78-7.78 2.81-2.81c.8-.78.8-2.07 0-2.86zM5.41 20L4 18.59l7.72-7.72 1.47 1.35L5.41 20z\"/>\n",
              "  </svg>\n",
              "      </button>\n",
              "      \n",
              "  <style>\n",
              "    .colab-df-container {\n",
              "      display:flex;\n",
              "      flex-wrap:wrap;\n",
              "      gap: 12px;\n",
              "    }\n",
              "\n",
              "    .colab-df-convert {\n",
              "      background-color: #E8F0FE;\n",
              "      border: none;\n",
              "      border-radius: 50%;\n",
              "      cursor: pointer;\n",
              "      display: none;\n",
              "      fill: #1967D2;\n",
              "      height: 32px;\n",
              "      padding: 0 0 0 0;\n",
              "      width: 32px;\n",
              "    }\n",
              "\n",
              "    .colab-df-convert:hover {\n",
              "      background-color: #E2EBFA;\n",
              "      box-shadow: 0px 1px 2px rgba(60, 64, 67, 0.3), 0px 1px 3px 1px rgba(60, 64, 67, 0.15);\n",
              "      fill: #174EA6;\n",
              "    }\n",
              "\n",
              "    [theme=dark] .colab-df-convert {\n",
              "      background-color: #3B4455;\n",
              "      fill: #D2E3FC;\n",
              "    }\n",
              "\n",
              "    [theme=dark] .colab-df-convert:hover {\n",
              "      background-color: #434B5C;\n",
              "      box-shadow: 0px 1px 3px 1px rgba(0, 0, 0, 0.15);\n",
              "      filter: drop-shadow(0px 1px 2px rgba(0, 0, 0, 0.3));\n",
              "      fill: #FFFFFF;\n",
              "    }\n",
              "  </style>\n",
              "\n",
              "      <script>\n",
              "        const buttonEl =\n",
              "          document.querySelector('#df-d125980b-06f2-42fc-a842-e55489347f8f button.colab-df-convert');\n",
              "        buttonEl.style.display =\n",
              "          google.colab.kernel.accessAllowed ? 'block' : 'none';\n",
              "\n",
              "        async function convertToInteractive(key) {\n",
              "          const element = document.querySelector('#df-d125980b-06f2-42fc-a842-e55489347f8f');\n",
              "          const dataTable =\n",
              "            await google.colab.kernel.invokeFunction('convertToInteractive',\n",
              "                                                     [key], {});\n",
              "          if (!dataTable) return;\n",
              "\n",
              "          const docLinkHtml = 'Like what you see? Visit the ' +\n",
              "            '<a target=\"_blank\" href=https://colab.research.google.com/notebooks/data_table.ipynb>data table notebook</a>'\n",
              "            + ' to learn more about interactive tables.';\n",
              "          element.innerHTML = '';\n",
              "          dataTable['output_type'] = 'display_data';\n",
              "          await google.colab.output.renderOutput(dataTable, element);\n",
              "          const docLink = document.createElement('div');\n",
              "          docLink.innerHTML = docLinkHtml;\n",
              "          element.appendChild(docLink);\n",
              "        }\n",
              "      </script>\n",
              "    </div>\n",
              "  </div>\n",
              "  "
            ],
            "text/plain": [
              "   Alcohol  Malic_Acid   Ash  ...   Hue  OD280  Proline\n",
              "0    14.23        1.71  2.43  ...  1.04   3.92     1065\n",
              "1    13.20        1.78  2.14  ...  1.05   3.40     1050\n",
              "2    13.16        2.36  2.67  ...  1.03   3.17     1185\n",
              "3    14.37        1.95  2.50  ...  0.86   3.45     1480\n",
              "4    13.24        2.59  2.87  ...  1.04   2.93      735\n",
              "\n",
              "[5 rows x 13 columns]"
            ]
          },
          "metadata": {},
          "execution_count": 4
        }
      ],
      "source": [
        "data.head()"
      ]
    },
    {
      "cell_type": "code",
      "execution_count": 5,
      "id": "7192c17a",
      "metadata": {
        "colab": {
          "base_uri": "https://localhost:8080/"
        },
        "id": "7192c17a",
        "outputId": "7b2b2a5a-1344-4fd5-ad2b-623616068d01"
      },
      "outputs": [
        {
          "output_type": "execute_result",
          "data": {
            "text/plain": [
              "Alcohol                 0\n",
              "Malic_Acid              0\n",
              "Ash                     0\n",
              "Ash_Alcanity            0\n",
              "Magnesium               0\n",
              "Total_Phenols           0\n",
              "Flavanoids              0\n",
              "Nonflavanoid_Phenols    0\n",
              "Proanthocyanins         0\n",
              "Color_Intensity         0\n",
              "Hue                     0\n",
              "OD280                   0\n",
              "Proline                 0\n",
              "dtype: int64"
            ]
          },
          "metadata": {},
          "execution_count": 5
        }
      ],
      "source": [
        "#finding null values\n",
        "data.isna().sum()"
      ]
    },
    {
      "cell_type": "code",
      "execution_count": 6,
      "id": "3f1448d5",
      "metadata": {
        "colab": {
          "base_uri": "https://localhost:8080/"
        },
        "id": "3f1448d5",
        "outputId": "9723ff2c-9709-404a-ab0f-ba0669d9f384"
      },
      "outputs": [
        {
          "output_type": "execute_result",
          "data": {
            "text/plain": [
              "Alcohol                 float64\n",
              "Malic_Acid              float64\n",
              "Ash                     float64\n",
              "Ash_Alcanity            float64\n",
              "Magnesium                 int64\n",
              "Total_Phenols           float64\n",
              "Flavanoids              float64\n",
              "Nonflavanoid_Phenols    float64\n",
              "Proanthocyanins         float64\n",
              "Color_Intensity         float64\n",
              "Hue                     float64\n",
              "OD280                   float64\n",
              "Proline                   int64\n",
              "dtype: object"
            ]
          },
          "metadata": {},
          "execution_count": 6
        }
      ],
      "source": [
        "data.dtypes"
      ]
    },
    {
      "cell_type": "code",
      "execution_count": 7,
      "id": "348eba61",
      "metadata": {
        "colab": {
          "base_uri": "https://localhost:8080/"
        },
        "id": "348eba61",
        "outputId": "8cbac9c8-dabc-4709-e030-0a49650c52e1"
      },
      "outputs": [
        {
          "output_type": "execute_result",
          "data": {
            "text/plain": [
              "array([[14.23,  2.8 ],\n",
              "       [13.2 ,  2.65],\n",
              "       [13.16,  2.8 ],\n",
              "       [14.37,  3.85],\n",
              "       [13.24,  2.8 ],\n",
              "       [14.2 ,  3.27],\n",
              "       [14.39,  2.5 ],\n",
              "       [14.06,  2.6 ],\n",
              "       [14.83,  2.8 ],\n",
              "       [13.86,  2.98],\n",
              "       [14.1 ,  2.95],\n",
              "       [14.12,  2.2 ],\n",
              "       [13.75,  2.6 ],\n",
              "       [14.75,  3.1 ],\n",
              "       [14.38,  3.3 ],\n",
              "       [13.63,  2.85],\n",
              "       [14.3 ,  2.8 ],\n",
              "       [13.83,  2.95],\n",
              "       [14.19,  3.3 ],\n",
              "       [13.64,  2.7 ],\n",
              "       [14.06,  3.  ],\n",
              "       [12.93,  2.41],\n",
              "       [13.71,  2.61],\n",
              "       [12.85,  2.48],\n",
              "       [13.5 ,  2.53],\n",
              "       [13.05,  2.63],\n",
              "       [13.39,  2.85],\n",
              "       [13.3 ,  2.4 ],\n",
              "       [13.87,  2.95],\n",
              "       [14.02,  2.65],\n",
              "       [13.73,  3.  ],\n",
              "       [13.58,  2.86],\n",
              "       [13.68,  2.42],\n",
              "       [13.76,  2.95],\n",
              "       [13.51,  2.35],\n",
              "       [13.48,  2.7 ],\n",
              "       [13.28,  2.6 ],\n",
              "       [13.05,  2.45],\n",
              "       [13.07,  2.4 ],\n",
              "       [14.22,  3.  ],\n",
              "       [13.56,  3.15],\n",
              "       [13.41,  2.45],\n",
              "       [13.88,  3.25],\n",
              "       [13.24,  2.64],\n",
              "       [13.05,  3.  ],\n",
              "       [14.21,  2.85],\n",
              "       [14.38,  3.25],\n",
              "       [13.9 ,  3.1 ],\n",
              "       [14.1 ,  2.75],\n",
              "       [13.94,  2.88],\n",
              "       [13.05,  2.72],\n",
              "       [13.83,  2.45],\n",
              "       [13.82,  3.88],\n",
              "       [13.77,  3.  ],\n",
              "       [13.74,  2.6 ],\n",
              "       [13.56,  2.96],\n",
              "       [14.22,  3.2 ],\n",
              "       [13.29,  3.  ],\n",
              "       [13.72,  3.4 ],\n",
              "       [12.37,  1.98],\n",
              "       [12.33,  2.05],\n",
              "       [12.64,  2.02],\n",
              "       [13.67,  2.1 ],\n",
              "       [12.37,  3.5 ],\n",
              "       [12.17,  1.89],\n",
              "       [12.37,  2.42],\n",
              "       [13.11,  2.98],\n",
              "       [12.37,  2.11],\n",
              "       [13.34,  2.53],\n",
              "       [12.21,  1.85],\n",
              "       [12.29,  1.1 ],\n",
              "       [13.86,  2.95],\n",
              "       [13.49,  1.88],\n",
              "       [12.99,  3.3 ],\n",
              "       [11.96,  3.38],\n",
              "       [11.66,  1.61],\n",
              "       [13.03,  1.95],\n",
              "       [11.84,  1.72],\n",
              "       [12.33,  1.9 ],\n",
              "       [12.7 ,  2.83],\n",
              "       [12.  ,  2.42],\n",
              "       [12.72,  2.2 ],\n",
              "       [12.08,  2.  ],\n",
              "       [13.05,  1.65],\n",
              "       [11.84,  2.2 ],\n",
              "       [12.67,  2.2 ],\n",
              "       [12.16,  1.78],\n",
              "       [11.65,  1.92],\n",
              "       [11.64,  1.95],\n",
              "       [12.08,  2.2 ],\n",
              "       [12.08,  1.6 ],\n",
              "       [12.  ,  1.45],\n",
              "       [12.69,  1.38],\n",
              "       [12.29,  2.45],\n",
              "       [11.62,  3.02],\n",
              "       [12.47,  2.5 ],\n",
              "       [11.81,  1.6 ],\n",
              "       [12.29,  2.55],\n",
              "       [12.37,  3.52],\n",
              "       [12.29,  2.85],\n",
              "       [12.08,  2.23],\n",
              "       [12.6 ,  1.45],\n",
              "       [12.34,  2.56],\n",
              "       [11.82,  2.5 ],\n",
              "       [12.51,  2.2 ],\n",
              "       [12.42,  1.68],\n",
              "       [12.25,  1.65],\n",
              "       [12.72,  1.38],\n",
              "       [12.22,  2.36],\n",
              "       [11.61,  2.74],\n",
              "       [11.46,  3.18],\n",
              "       [12.52,  2.55],\n",
              "       [11.76,  1.75],\n",
              "       [11.41,  2.48],\n",
              "       [12.08,  2.56],\n",
              "       [11.03,  2.46],\n",
              "       [11.82,  1.98],\n",
              "       [12.42,  2.  ],\n",
              "       [12.77,  1.63],\n",
              "       [12.  ,  2.  ],\n",
              "       [11.45,  2.9 ],\n",
              "       [11.56,  3.18],\n",
              "       [12.42,  2.2 ],\n",
              "       [13.05,  2.62],\n",
              "       [11.87,  2.86],\n",
              "       [12.07,  2.6 ],\n",
              "       [12.43,  2.74],\n",
              "       [11.79,  2.13],\n",
              "       [12.37,  2.22],\n",
              "       [12.04,  2.1 ],\n",
              "       [12.86,  1.51],\n",
              "       [12.88,  1.3 ],\n",
              "       [12.81,  1.15],\n",
              "       [12.7 ,  1.7 ],\n",
              "       [12.51,  2.  ],\n",
              "       [12.6 ,  1.62],\n",
              "       [12.25,  1.38],\n",
              "       [12.53,  1.79],\n",
              "       [13.49,  1.62],\n",
              "       [12.84,  2.32],\n",
              "       [12.93,  1.54],\n",
              "       [13.36,  1.4 ],\n",
              "       [13.52,  1.55],\n",
              "       [13.62,  2.  ],\n",
              "       [12.25,  1.38],\n",
              "       [13.16,  1.5 ],\n",
              "       [13.88,  0.98],\n",
              "       [12.87,  1.7 ],\n",
              "       [13.32,  1.93],\n",
              "       [13.08,  1.41],\n",
              "       [13.5 ,  1.4 ],\n",
              "       [12.79,  1.48],\n",
              "       [13.11,  2.2 ],\n",
              "       [13.23,  1.8 ],\n",
              "       [12.58,  1.48],\n",
              "       [13.17,  1.74],\n",
              "       [13.84,  1.8 ],\n",
              "       [12.45,  1.9 ],\n",
              "       [14.34,  2.8 ],\n",
              "       [13.48,  2.6 ],\n",
              "       [12.36,  2.3 ],\n",
              "       [13.69,  1.83],\n",
              "       [12.85,  1.65],\n",
              "       [12.96,  1.39],\n",
              "       [13.78,  1.35],\n",
              "       [13.73,  1.28],\n",
              "       [13.45,  1.7 ],\n",
              "       [12.82,  1.48],\n",
              "       [13.58,  1.55],\n",
              "       [13.4 ,  1.98],\n",
              "       [12.2 ,  1.25],\n",
              "       [12.77,  1.39],\n",
              "       [14.16,  1.68],\n",
              "       [13.71,  1.68],\n",
              "       [13.4 ,  1.8 ],\n",
              "       [13.27,  1.59],\n",
              "       [13.17,  1.65],\n",
              "       [14.13,  2.05]])"
            ]
          },
          "metadata": {},
          "execution_count": 7
        }
      ],
      "source": [
        "x = data.iloc[:,[0,5]].values\n",
        "x"
      ]
    },
    {
      "cell_type": "markdown",
      "id": "cdccda5f",
      "metadata": {
        "id": "cdccda5f"
      },
      "source": [
        "# KMeans Clustering"
      ]
    },
    {
      "cell_type": "code",
      "execution_count": 8,
      "id": "2caafaef",
      "metadata": {
        "colab": {
          "base_uri": "https://localhost:8080/",
          "height": 469
        },
        "id": "2caafaef",
        "outputId": "1fe8d8d8-44a6-419b-d6af-10e664d63d2d"
      },
      "outputs": [
        {
          "output_type": "stream",
          "name": "stdout",
          "text": [
            "185.983079775281\n",
            "92.49019959473151\n",
            "58.39831216953796\n",
            "46.27713263680765\n",
            "34.92451396454424\n",
            "28.36186784391534\n",
            "24.278590100074254\n",
            "21.825964636106768\n",
            "19.88923477662044\n",
            "18.132693889540327\n"
          ]
        },
        {
          "output_type": "display_data",
          "data": {
            "image/png": "[encoded data removed]",
            "text/plain": [
              "<Figure size 432x288 with 1 Axes>"
            ]
          },
          "metadata": {
            "needs_background": "light"
          }
        }
      ],
      "source": [
        "from sklearn.cluster import KMeans\n",
        "\n",
        "wcss = []\n",
        "for i in range(1,11):\n",
        "    kmeans = KMeans(n_clusters=i, init = 'k-means++',random_state = 42)\n",
        "    kmeans.fit(x)\n",
        "    wcss.append(kmeans.inertia_)\n",
        "    print(kmeans.inertia_)\n",
        "plt.plot(range(1,11),wcss)\n",
        "plt.title('Elbow Method')\n",
        "plt.xlabel('Number of clusters')\n",
        "plt.ylabel('WCSS')\n",
        "plt.show()"
      ]
    },
    {
      "cell_type": "code",
      "execution_count": 11,
      "id": "ba51b548",
      "metadata": {
        "colab": {
          "base_uri": "https://localhost:8080/"
        },
        "id": "ba51b548",
        "outputId": "febd0d6c-f605-4348-fc8c-02f0c2a30430"
      },
      "outputs": [
        {
          "output_type": "execute_result",
          "data": {
            "text/plain": [
              "array([1, 1, 1, 1, 1, 1, 1, 1, 1, 1, 1, 1, 1, 1, 1, 1, 1, 1, 1, 1, 1, 2,\n",
              "       1, 3, 1, 1, 1, 1, 1, 1, 1, 1, 1, 1, 1, 1, 1, 2, 2, 1, 1, 1, 1, 1,\n",
              "       1, 1, 1, 1, 1, 1, 1, 1, 1, 1, 1, 1, 1, 1, 1, 0, 0, 0, 2, 3, 0, 3,\n",
              "       1, 0, 1, 0, 0, 1, 2, 1, 3, 0, 2, 0, 0, 3, 3, 0, 0, 2, 0, 0, 0, 0,\n",
              "       0, 0, 0, 0, 2, 3, 3, 3, 0, 3, 3, 3, 0, 0, 3, 3, 0, 0, 0, 2, 3, 3,\n",
              "       3, 3, 0, 3, 3, 3, 0, 0, 2, 0, 3, 3, 0, 1, 3, 3, 3, 0, 0, 0, 2, 2,\n",
              "       2, 0, 0, 0, 0, 0, 2, 2, 2, 2, 2, 2, 0, 2, 2, 2, 2, 2, 2, 2, 2, 2,\n",
              "       0, 2, 2, 0, 1, 1, 0, 2, 2, 2, 2, 2, 2, 2, 2, 2, 0, 2, 2, 2, 2, 2,\n",
              "       2, 1], dtype=int32)"
            ]
          },
          "metadata": {},
          "execution_count": 11
        }
      ],
      "source": [
        "kmeans = KMeans(n_clusters = 4,init = 'k-means++',random_state = 42)\n",
        "y_kmeans = kmeans.fit_predict(x)\n",
        "type(x)\n",
        "y_kmeans"
      ]
    },
    {
      "cell_type": "code",
      "execution_count": 16,
      "id": "197d76a8",
      "metadata": {
        "colab": {
          "base_uri": "https://localhost:8080/",
          "height": 607
        },
        "id": "197d76a8",
        "outputId": "207cf55e-67ba-462e-f440-514cfd40f0c5"
      },
      "outputs": [
        {
          "output_type": "display_data",
          "data": {
            "image/png": "[encoded data removed]",
            "text/plain": [
              "<Figure size 1080x720 with 1 Axes>"
            ]
          },
          "metadata": {
            "needs_background": "light"
          }
        }
      ],
      "source": [
        "plt.figure(figsize=(15,10))\n",
        "plt.scatter(x[y_kmeans == 0,0],x[y_kmeans == 0,1],s = 75, c = 'orange',label = 'Cluster 1')\n",
        "plt.scatter(x[y_kmeans == 1,0],x[y_kmeans == 1,1],s = 75, c = 'black',label = 'Cluster 2')\n",
        "plt.scatter(x[y_kmeans == 2,0],x[y_kmeans == 2,1],s = 75, c = 'red',label = 'Cluster 3')\n",
        "plt.scatter(x[y_kmeans == 3,0],x[y_kmeans == 3,1],s = 75, c = 'violet',label = 'Cluster 4')\n",
        "plt.title('Clusters')\n",
        "plt.legend()\n",
        "plt.show()"
      ]
    },
    {
      "cell_type": "markdown",
      "id": "d58286de",
      "metadata": {
        "id": "d58286de"
      },
      "source": [
        "# PCA"
      ]
    },
    {
      "cell_type": "code",
      "execution_count": 17,
      "id": "0d65bdb5",
      "metadata": {
        "colab": {
          "base_uri": "https://localhost:8080/",
          "height": 364
        },
        "id": "0d65bdb5",
        "outputId": "9ea12719-ee42-474b-b922-4a1480c3e508"
      },
      "outputs": [
        {
          "output_type": "execute_result",
          "data": {
            "text/html": [
              "\n",
              "  <div id=\"df-9f88a485-8a87-4908-86fe-a159dcde38c8\">\n",
              "    <div class=\"colab-df-container\">\n",
              "      <div>\n",
              "<style scoped>\n",
              "    .dataframe tbody tr th:only-of-type {\n",
              "        vertical-align: middle;\n",
              "    }\n",
              "\n",
              "    .dataframe tbody tr th {\n",
              "        vertical-align: top;\n",
              "    }\n",
              "\n",
              "    .dataframe thead th {\n",
              "        text-align: right;\n",
              "    }\n",
              "</style>\n",
              "<table border=\"1\" class=\"dataframe\">\n",
              "  <thead>\n",
              "    <tr style=\"text-align: right;\">\n",
              "      <th></th>\n",
              "      <th>Alcohol</th>\n",
              "      <th>Malic_Acid</th>\n",
              "      <th>Ash</th>\n",
              "      <th>Ash_Alcanity</th>\n",
              "      <th>Magnesium</th>\n",
              "      <th>Total_Phenols</th>\n",
              "      <th>Flavanoids</th>\n",
              "      <th>Nonflavanoid_Phenols</th>\n",
              "      <th>Proanthocyanins</th>\n",
              "      <th>Color_Intensity</th>\n",
              "      <th>Hue</th>\n",
              "      <th>OD280</th>\n",
              "      <th>Proline</th>\n",
              "    </tr>\n",
              "  </thead>\n",
              "  <tbody>\n",
              "    <tr>\n",
              "      <th>count</th>\n",
              "      <td>1.780000e+02</td>\n",
              "      <td>1.780000e+02</td>\n",
              "      <td>1.780000e+02</td>\n",
              "      <td>1.780000e+02</td>\n",
              "      <td>1.780000e+02</td>\n",
              "      <td>1.780000e+02</td>\n",
              "      <td>1.780000e+02</td>\n",
              "      <td>1.780000e+02</td>\n",
              "      <td>1.780000e+02</td>\n",
              "      <td>1.780000e+02</td>\n",
              "      <td>1.780000e+02</td>\n",
              "      <td>1.780000e+02</td>\n",
              "      <td>1.780000e+02</td>\n",
              "    </tr>\n",
              "    <tr>\n",
              "      <th>mean</th>\n",
              "      <td>-8.619821e-16</td>\n",
              "      <td>-8.357859e-17</td>\n",
              "      <td>-8.657245e-16</td>\n",
              "      <td>-1.160121e-16</td>\n",
              "      <td>-1.995907e-17</td>\n",
              "      <td>-2.972030e-16</td>\n",
              "      <td>-4.016762e-16</td>\n",
              "      <td>4.079134e-16</td>\n",
              "      <td>-1.699639e-16</td>\n",
              "      <td>-1.247442e-18</td>\n",
              "      <td>3.717376e-16</td>\n",
              "      <td>2.919013e-16</td>\n",
              "      <td>-7.484650e-18</td>\n",
              "    </tr>\n",
              "    <tr>\n",
              "      <th>std</th>\n",
              "      <td>1.002821e+00</td>\n",
              "      <td>1.002821e+00</td>\n",
              "      <td>1.002821e+00</td>\n",
              "      <td>1.002821e+00</td>\n",
              "      <td>1.002821e+00</td>\n",
              "      <td>1.002821e+00</td>\n",
              "      <td>1.002821e+00</td>\n",
              "      <td>1.002821e+00</td>\n",
              "      <td>1.002821e+00</td>\n",
              "      <td>1.002821e+00</td>\n",
              "      <td>1.002821e+00</td>\n",
              "      <td>1.002821e+00</td>\n",
              "      <td>1.002821e+00</td>\n",
              "    </tr>\n",
              "    <tr>\n",
              "      <th>min</th>\n",
              "      <td>-2.434235e+00</td>\n",
              "      <td>-1.432983e+00</td>\n",
              "      <td>-3.679162e+00</td>\n",
              "      <td>-2.671018e+00</td>\n",
              "      <td>-2.088255e+00</td>\n",
              "      <td>-2.107246e+00</td>\n",
              "      <td>-1.695971e+00</td>\n",
              "      <td>-1.868234e+00</td>\n",
              "      <td>-2.069034e+00</td>\n",
              "      <td>-1.634288e+00</td>\n",
              "      <td>-2.094732e+00</td>\n",
              "      <td>-1.895054e+00</td>\n",
              "      <td>-1.493188e+00</td>\n",
              "    </tr>\n",
              "    <tr>\n",
              "      <th>25%</th>\n",
              "      <td>-7.882448e-01</td>\n",
              "      <td>-6.587486e-01</td>\n",
              "      <td>-5.721225e-01</td>\n",
              "      <td>-6.891372e-01</td>\n",
              "      <td>-8.244151e-01</td>\n",
              "      <td>-8.854682e-01</td>\n",
              "      <td>-8.275393e-01</td>\n",
              "      <td>-7.401412e-01</td>\n",
              "      <td>-5.972835e-01</td>\n",
              "      <td>-7.951025e-01</td>\n",
              "      <td>-7.675624e-01</td>\n",
              "      <td>-9.522483e-01</td>\n",
              "      <td>-7.846378e-01</td>\n",
              "    </tr>\n",
              "    <tr>\n",
              "      <th>50%</th>\n",
              "      <td>6.099988e-02</td>\n",
              "      <td>-4.231120e-01</td>\n",
              "      <td>-2.382132e-02</td>\n",
              "      <td>1.518295e-03</td>\n",
              "      <td>-1.222817e-01</td>\n",
              "      <td>9.595986e-02</td>\n",
              "      <td>1.061497e-01</td>\n",
              "      <td>-1.760948e-01</td>\n",
              "      <td>-6.289785e-02</td>\n",
              "      <td>-1.592246e-01</td>\n",
              "      <td>3.312687e-02</td>\n",
              "      <td>2.377348e-01</td>\n",
              "      <td>-2.337204e-01</td>\n",
              "    </tr>\n",
              "    <tr>\n",
              "      <th>75%</th>\n",
              "      <td>8.361286e-01</td>\n",
              "      <td>6.697929e-01</td>\n",
              "      <td>6.981085e-01</td>\n",
              "      <td>6.020883e-01</td>\n",
              "      <td>5.096384e-01</td>\n",
              "      <td>8.089974e-01</td>\n",
              "      <td>8.490851e-01</td>\n",
              "      <td>6.095413e-01</td>\n",
              "      <td>6.291754e-01</td>\n",
              "      <td>4.939560e-01</td>\n",
              "      <td>7.131644e-01</td>\n",
              "      <td>7.885875e-01</td>\n",
              "      <td>7.582494e-01</td>\n",
              "    </tr>\n",
              "    <tr>\n",
              "      <th>max</th>\n",
              "      <td>2.259772e+00</td>\n",
              "      <td>3.109192e+00</td>\n",
              "      <td>3.156325e+00</td>\n",
              "      <td>3.154511e+00</td>\n",
              "      <td>4.371372e+00</td>\n",
              "      <td>2.539515e+00</td>\n",
              "      <td>3.062832e+00</td>\n",
              "      <td>2.402403e+00</td>\n",
              "      <td>3.485073e+00</td>\n",
              "      <td>3.435432e+00</td>\n",
              "      <td>3.301694e+00</td>\n",
              "      <td>1.960915e+00</td>\n",
              "      <td>2.971473e+00</td>\n",
              "    </tr>\n",
              "  </tbody>\n",
              "</table>\n",
              "</div>\n",
              "      <button class=\"colab-df-convert\" onclick=\"convertToInteractive('df-9f88a485-8a87-4908-86fe-a159dcde38c8')\"\n",
              "              title=\"Convert this dataframe to an interactive table.\"\n",
              "              style=\"display:none;\">\n",
              "        \n",
              "  <svg xmlns=\"http://www.w3.org/2000/svg\" height=\"24px\"viewBox=\"0 0 24 24\"\n",
              "       width=\"24px\">\n",
              "    <path d=\"M0 0h24v24H0V0z\" fill=\"none\"/>\n",
              "    <path d=\"M18.56 5.44l.94 2.06.94-2.06 2.06-.94-2.06-.94-.94-2.06-.94 2.06-2.06.94zm-11 1L8.5 8.5l.94-2.06 2.06-.94-2.06-.94L8.5 2.5l-.94 2.06-2.06.94zm10 10l.94 2.06.94-2.06 2.06-.94-2.06-.94-.94-2.06-.94 2.06-2.06.94z\"/><path d=\"M17.41 7.96l-1.37-1.37c-.4-.4-.92-.59-1.43-.59-.52 0-1.04.2-1.43.59L10.3 9.45l-7.72 7.72c-.78.78-.78 2.05 0 2.83L4 21.41c.39.39.9.59 1.41.59.51 0 1.02-.2 1.41-.59l7.78-7.78 2.81-2.81c.8-.78.8-2.07 0-2.86zM5.41 20L4 18.59l7.72-7.72 1.47 1.35L5.41 20z\"/>\n",
              "  </svg>\n",
              "      </button>\n",
              "      \n",
              "  <style>\n",
              "    .colab-df-container {\n",
              "      display:flex;\n",
              "      flex-wrap:wrap;\n",
              "      gap: 12px;\n",
              "    }\n",
              "\n",
              "    .colab-df-convert {\n",
              "      background-color: #E8F0FE;\n",
              "      border: none;\n",
              "      border-radius: 50%;\n",
              "      cursor: pointer;\n",
              "      display: none;\n",
              "      fill: #1967D2;\n",
              "      height: 32px;\n",
              "      padding: 0 0 0 0;\n",
              "      width: 32px;\n",
              "    }\n",
              "\n",
              "    .colab-df-convert:hover {\n",
              "      background-color: #E2EBFA;\n",
              "      box-shadow: 0px 1px 2px rgba(60, 64, 67, 0.3), 0px 1px 3px 1px rgba(60, 64, 67, 0.15);\n",
              "      fill: #174EA6;\n",
              "    }\n",
              "\n",
              "    [theme=dark] .colab-df-convert {\n",
              "      background-color: #3B4455;\n",
              "      fill: #D2E3FC;\n",
              "    }\n",
              "\n",
              "    [theme=dark] .colab-df-convert:hover {\n",
              "      background-color: #434B5C;\n",
              "      box-shadow: 0px 1px 3px 1px rgba(0, 0, 0, 0.15);\n",
              "      filter: drop-shadow(0px 1px 2px rgba(0, 0, 0, 0.3));\n",
              "      fill: #FFFFFF;\n",
              "    }\n",
              "  </style>\n",
              "\n",
              "      <script>\n",
              "        const buttonEl =\n",
              "          document.querySelector('#df-9f88a485-8a87-4908-86fe-a159dcde38c8 button.colab-df-convert');\n",
              "        buttonEl.style.display =\n",
              "          google.colab.kernel.accessAllowed ? 'block' : 'none';\n",
              "\n",
              "        async function convertToInteractive(key) {\n",
              "          const element = document.querySelector('#df-9f88a485-8a87-4908-86fe-a159dcde38c8');\n",
              "          const dataTable =\n",
              "            await google.colab.kernel.invokeFunction('convertToInteractive',\n",
              "                                                     [key], {});\n",
              "          if (!dataTable) return;\n",
              "\n",
              "          const docLinkHtml = 'Like what you see? Visit the ' +\n",
              "            '<a target=\"_blank\" href=https://colab.research.google.com/notebooks/data_table.ipynb>data table notebook</a>'\n",
              "            + ' to learn more about interactive tables.';\n",
              "          element.innerHTML = '';\n",
              "          dataTable['output_type'] = 'display_data';\n",
              "          await google.colab.output.renderOutput(dataTable, element);\n",
              "          const docLink = document.createElement('div');\n",
              "          docLink.innerHTML = docLinkHtml;\n",
              "          element.appendChild(docLink);\n",
              "        }\n",
              "      </script>\n",
              "    </div>\n",
              "  </div>\n",
              "  "
            ],
            "text/plain": [
              "            Alcohol    Malic_Acid  ...         OD280       Proline\n",
              "count  1.780000e+02  1.780000e+02  ...  1.780000e+02  1.780000e+02\n",
              "mean  -8.619821e-16 -8.357859e-17  ...  2.919013e-16 -7.484650e-18\n",
              "std    1.002821e+00  1.002821e+00  ...  1.002821e+00  1.002821e+00\n",
              "min   -2.434235e+00 -1.432983e+00  ... -1.895054e+00 -1.493188e+00\n",
              "25%   -7.882448e-01 -6.587486e-01  ... -9.522483e-01 -7.846378e-01\n",
              "50%    6.099988e-02 -4.231120e-01  ...  2.377348e-01 -2.337204e-01\n",
              "75%    8.361286e-01  6.697929e-01  ...  7.885875e-01  7.582494e-01\n",
              "max    2.259772e+00  3.109192e+00  ...  1.960915e+00  2.971473e+00\n",
              "\n",
              "[8 rows x 13 columns]"
            ]
          },
          "metadata": {},
          "execution_count": 17
        }
      ],
      "source": [
        "# scaling the data\n",
        "from sklearn.preprocessing import StandardScaler\n",
        "scalar = StandardScaler()\n",
        "scaled_data = scalar.fit_transform(data)\n",
        "scaled_data = pd.DataFrame(scaled_data, columns = data.columns)\n",
        "scaled_data.describe()"
      ]
    },
    {
      "cell_type": "code",
      "execution_count": 18,
      "id": "43fcfa6e",
      "metadata": {
        "colab": {
          "base_uri": "https://localhost:8080/"
        },
        "id": "43fcfa6e",
        "outputId": "04f2ff89-4e67-453a-e359-211c2364cd84"
      },
      "outputs": [
        {
          "output_type": "execute_result",
          "data": {
            "text/plain": [
              "(178, 4)"
            ]
          },
          "metadata": {},
          "execution_count": 18
        }
      ],
      "source": [
        "from sklearn.decomposition import PCA\n",
        "pca = PCA(n_components = 4)\n",
        "pca.fit(scaled_data)\n",
        "x_pca = pca.transform(scaled_data)\n",
        "x_pca.shape"
      ]
    },
    {
      "cell_type": "code",
      "execution_count": 22,
      "id": "73e88879",
      "metadata": {
        "colab": {
          "base_uri": "https://localhost:8080/",
          "height": 405
        },
        "id": "73e88879",
        "outputId": "6fd87ae6-3c9c-4fe0-ebac-1d9e8bf9f485"
      },
      "outputs": [
        {
          "output_type": "execute_result",
          "data": {
            "text/plain": [
              "Text(0, 0.5, 'Second Principal Component')"
            ]
          },
          "metadata": {},
          "execution_count": 22
        },
        {
          "output_type": "display_data",
          "data": {
            "image/png": "[encoded data removed]",
            "text/plain": [
              "<Figure size 576x432 with 1 Axes>"
            ]
          },
          "metadata": {
            "needs_background": "light"
          }
        }
      ],
      "source": [
        "# visualizing PCA components \n",
        "plt.figure(figsize =(8, 6))\n",
        "plt.scatter(x_pca[:, 0], x_pca[:, 1], c = data['Alcohol'],cmap='inferno')\n",
        "plt.xlabel('First Principal Component')\n",
        "plt.ylabel('Second Principal Component')"
      ]
    }
  ],
  "metadata": {
    "kernelspec": {
      "display_name": "Python 3",
      "language": "python",
      "name": "python3"
    },
    "language_info": {
      "codemirror_mode": {
        "name": "ipython",
        "version": 3
      },
      "file_extension": ".py",
      "mimetype": "text/x-python",
      "name": "python",
      "nbconvert_exporter": "python",
      "pygments_lexer": "ipython3",
      "version": "3.8.8"
    },
    "colab": {
      "name": "Case Study#9_ Unsupervised Learning.ipynb",
      "provenance": [],
      "include_colab_link": true
    }
  },
  "nbformat": 4,
  "nbformat_minor": 5
}